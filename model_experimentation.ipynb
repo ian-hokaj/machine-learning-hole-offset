{
 "cells": [
  {
   "cell_type": "markdown",
   "id": "fbcea84e",
   "metadata": {},
   "source": [
    "# Testing ML Approaches on Data"
   ]
  },
  {
   "cell_type": "code",
   "execution_count": 1,
   "id": "1140a91d",
   "metadata": {},
   "outputs": [],
   "source": [
    "import numpy as np\n",
    "import tensorflow as tf\n",
    "from tensorflow import keras\n",
    "from tensorflow.keras import layers\n",
    "import matplotlib.pyplot as plt"
   ]
  },
  {
   "cell_type": "code",
   "execution_count": 6,
   "id": "3fa454ba",
   "metadata": {},
   "outputs": [],
   "source": [
    "# Import the compressed data\n",
    "data = np.load('data/formatted_data.npz')\n",
    "data_array = data['arr_0']\n",
    "\n",
    "# Shuffle the dataset rows with a known seed\n",
    "np.random.seed(42)\n",
    "np.random.shuffle(data_array)\n",
    "\n",
    "# Decrease dataset size by factor of 10 for experimenting\n",
    "data_array = data_array[:len(data_array) // 1]\n",
    "\n",
    "# Split the data into 80/20 train/test sets\n",
    "train_data = data_array[:int(0.8 * len(data_array))]\n",
    "test_data = data_array[int(0.8 * len(data_array)):]\n",
    "\n",
    "# Split the features and labels\n",
    "X_train = train_data[:, :-1]\n",
    "y_train = train_data[:, -1]\n",
    "X_test = test_data[:, :-1]\n",
    "y_test = test_data[:, -1]"
   ]
  },
  {
   "cell_type": "code",
   "execution_count": 5,
   "id": "ecec9f1d",
   "metadata": {},
   "outputs": [
    {
     "name": "stderr",
     "output_type": "stream",
     "text": [
      "c:\\Users\\Ian Hokaj\\Documents\\Air Force\\4_Phantom\\Impact Paper\\machine-learning-hole-offset\\.venv\\Lib\\site-packages\\keras\\src\\layers\\core\\dense.py:92: UserWarning: Do not pass an `input_shape`/`input_dim` argument to a layer. When using Sequential models, prefer using an `Input(shape)` object as the first layer in the model instead.\n",
      "  super().__init__(activity_regularizer=activity_regularizer, **kwargs)\n"
     ]
    }
   ],
   "source": [
    "# Build a simple neural network model for a single SIF prediction output layer\n",
    "model = keras.Sequential([\n",
    "    layers.Dense(64, activation='relu', input_shape=(X_train.shape[1],)),\n",
    "    layers.Dense(32, activation='relu'),\n",
    "    layers.Dense(1)\n",
    "])\n",
    "\n",
    "# Compile the model\n",
    "model.compile(optimizer='adam', loss='mean_squared_error')"
   ]
  },
  {
   "cell_type": "code",
   "execution_count": 17,
   "id": "865b467b",
   "metadata": {},
   "outputs": [
    {
     "name": "stdout",
     "output_type": "stream",
     "text": [
      "Epoch 1/10\n",
      "\u001b[1m32746/32746\u001b[0m \u001b[32m━━━━━━━━━━━━━━━━━━━━\u001b[0m\u001b[37m\u001b[0m \u001b[1m35s\u001b[0m 1ms/step - loss: 9985.4541 - val_loss: 9341.5391\n",
      "Epoch 2/10\n",
      "\u001b[1m32746/32746\u001b[0m \u001b[32m━━━━━━━━━━━━━━━━━━━━\u001b[0m\u001b[37m\u001b[0m \u001b[1m35s\u001b[0m 1ms/step - loss: 9281.7529 - val_loss: 9000.2920\n",
      "Epoch 3/10\n",
      "\u001b[1m32746/32746\u001b[0m \u001b[32m━━━━━━━━━━━━━━━━━━━━\u001b[0m\u001b[37m\u001b[0m \u001b[1m33s\u001b[0m 1ms/step - loss: 8989.1709 - val_loss: 9210.6299\n",
      "Epoch 4/10\n",
      "\u001b[1m32746/32746\u001b[0m \u001b[32m━━━━━━━━━━━━━━━━━━━━\u001b[0m\u001b[37m\u001b[0m \u001b[1m40s\u001b[0m 1ms/step - loss: 8839.1621 - val_loss: 8585.8604\n",
      "Epoch 5/10\n",
      "\u001b[1m32746/32746\u001b[0m \u001b[32m━━━━━━━━━━━━━━━━━━━━\u001b[0m\u001b[37m\u001b[0m \u001b[1m42s\u001b[0m 1ms/step - loss: 8692.6123 - val_loss: 8585.3574\n",
      "Epoch 6/10\n",
      "\u001b[1m32746/32746\u001b[0m \u001b[32m━━━━━━━━━━━━━━━━━━━━\u001b[0m\u001b[37m\u001b[0m \u001b[1m45s\u001b[0m 1ms/step - loss: 8615.9795 - val_loss: 8497.2441\n",
      "Epoch 7/10\n",
      "\u001b[1m32746/32746\u001b[0m \u001b[32m━━━━━━━━━━━━━━━━━━━━\u001b[0m\u001b[37m\u001b[0m \u001b[1m40s\u001b[0m 1ms/step - loss: 8518.0234 - val_loss: 8335.1562\n",
      "Epoch 8/10\n",
      "\u001b[1m32746/32746\u001b[0m \u001b[32m━━━━━━━━━━━━━━━━━━━━\u001b[0m\u001b[37m\u001b[0m \u001b[1m35s\u001b[0m 1ms/step - loss: 8442.2930 - val_loss: 8207.3086\n",
      "Epoch 9/10\n",
      "\u001b[1m32746/32746\u001b[0m \u001b[32m━━━━━━━━━━━━━━━━━━━━\u001b[0m\u001b[37m\u001b[0m \u001b[1m33s\u001b[0m 1ms/step - loss: 8381.8926 - val_loss: 8698.1250\n",
      "Epoch 10/10\n",
      "\u001b[1m32746/32746\u001b[0m \u001b[32m━━━━━━━━━━━━━━━━━━━━\u001b[0m\u001b[37m\u001b[0m \u001b[1m34s\u001b[0m 1ms/step - loss: 8333.5000 - val_loss: 8217.1104\n"
     ]
    },
    {
     "data": {
      "text/plain": [
       "<keras.src.callbacks.history.History at 0x151d0a9f750>"
      ]
     },
     "execution_count": 17,
     "metadata": {},
     "output_type": "execute_result"
    }
   ],
   "source": [
    "# Train the model\n",
    "model.fit(X_train, y_train, epochs=10, batch_size=32, validation_split=0.2)"
   ]
  },
  {
   "cell_type": "code",
   "execution_count": 3,
   "id": "8b840148",
   "metadata": {},
   "outputs": [
    {
     "ename": "NameError",
     "evalue": "name 'model' is not defined",
     "output_type": "error",
     "traceback": [
      "\u001b[31m---------------------------------------------------------------------------\u001b[39m",
      "\u001b[31mNameError\u001b[39m                                 Traceback (most recent call last)",
      "\u001b[36mCell\u001b[39m\u001b[36m \u001b[39m\u001b[32mIn[3]\u001b[39m\u001b[32m, line 2\u001b[39m\n\u001b[32m      1\u001b[39m \u001b[38;5;66;03m# Test the model\u001b[39;00m\n\u001b[32m----> \u001b[39m\u001b[32m2\u001b[39m test_loss = \u001b[43mmodel\u001b[49m.evaluate(X_test, y_test)\n\u001b[32m      3\u001b[39m \u001b[38;5;28mprint\u001b[39m(\u001b[33mf\u001b[39m\u001b[33m\"\u001b[39m\u001b[33mTest Loss: \u001b[39m\u001b[38;5;132;01m{\u001b[39;00mtest_loss\u001b[38;5;132;01m}\u001b[39;00m\u001b[33m\"\u001b[39m)\n\u001b[32m      5\u001b[39m \u001b[38;5;66;03m# Construct appropriate plots for analysis\u001b[39;00m\n\u001b[32m      6\u001b[39m \u001b[38;5;66;03m# Plot training and validation loss\u001b[39;00m\n",
      "\u001b[31mNameError\u001b[39m: name 'model' is not defined"
     ]
    }
   ],
   "source": [
    "# Test the model\n",
    "test_loss = model.evaluate(X_test, y_test)\n",
    "print(f\"Test Loss: {test_loss}\")\n",
    "\n",
    "# Construct appropriate plots for analysis\n",
    "# Plot training and validation loss\n",
    "history = model.history.history\n",
    "plt.plot(history['loss'], label='train_loss')\n",
    "plt.plot(history['val_loss'], label='val_loss')\n",
    "plt.xlabel('Epoch')\n",
    "plt.ylabel('Loss')\n",
    "plt.legend()\n",
    "plt.show()"
   ]
  },
  {
   "cell_type": "code",
   "execution_count": 2,
   "id": "31383aef",
   "metadata": {},
   "outputs": [
    {
     "name": "stdout",
     "output_type": "stream",
     "text": [
      "Num GPUs Available: 0\n"
     ]
    },
    {
     "ename": "NameError",
     "evalue": "name 'data_array' is not defined",
     "output_type": "error",
     "traceback": [
      "\u001b[31m---------------------------------------------------------------------------\u001b[39m",
      "\u001b[31mNameError\u001b[39m                                 Traceback (most recent call last)",
      "\u001b[36mCell\u001b[39m\u001b[36m \u001b[39m\u001b[32mIn[2]\u001b[39m\u001b[32m, line 4\u001b[39m\n\u001b[32m      1\u001b[39m \u001b[38;5;28mprint\u001b[39m(\u001b[33m\"\u001b[39m\u001b[33mNum GPUs Available:\u001b[39m\u001b[33m\"\u001b[39m, \u001b[38;5;28mlen\u001b[39m(tf.config.list_physical_devices(\u001b[33m'\u001b[39m\u001b[33mGPU\u001b[39m\u001b[33m'\u001b[39m)))\n\u001b[32m----> \u001b[39m\u001b[32m4\u001b[39m \u001b[38;5;28mprint\u001b[39m(\u001b[43mdata_array\u001b[49m.shape)\n\u001b[32m      5\u001b[39m \u001b[38;5;28mprint\u001b[39m(X_train.shape)\n\u001b[32m      6\u001b[39m \u001b[38;5;28mprint\u001b[39m(y_train.shape)\n",
      "\u001b[31mNameError\u001b[39m: name 'data_array' is not defined"
     ]
    }
   ],
   "source": [
    "\n",
    "print(\"Num GPUs Available:\", len(tf.config.list_physical_devices('GPU')))\n",
    "\n",
    "\n",
    "print(data_array.shape)\n",
    "print(X_train.shape)\n",
    "print(y_train.shape)\n",
    "print(X_test.shape)\n",
    "print(y_test.shape)"
   ]
  },
  {
   "cell_type": "markdown",
   "id": "c2f90bf4",
   "metadata": {},
   "source": [
    "## "
   ]
  }
 ],
 "metadata": {
  "kernelspec": {
   "display_name": ".venv",
   "language": "python",
   "name": "python3"
  },
  "language_info": {
   "codemirror_mode": {
    "name": "ipython",
    "version": 3
   },
   "file_extension": ".py",
   "mimetype": "text/x-python",
   "name": "python",
   "nbconvert_exporter": "python",
   "pygments_lexer": "ipython3",
   "version": "3.13.7"
  }
 },
 "nbformat": 4,
 "nbformat_minor": 5
}
